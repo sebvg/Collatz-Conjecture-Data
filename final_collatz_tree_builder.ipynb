{
 "cells": [
  {
   "cell_type": "code",
   "execution_count": 1,
   "id": "5501fe55",
   "metadata": {},
   "outputs": [],
   "source": [
    "import numpy as np\n",
    "import pandas as pd\n",
    "import matplotlib.pyplot as plt"
   ]
  },
  {
   "cell_type": "code",
   "execution_count": 2,
   "id": "0447caf9",
   "metadata": {},
   "outputs": [],
   "source": [
    "collatzs = []"
   ]
  },
  {
   "cell_type": "code",
   "execution_count": 3,
   "id": "f55ee4c4",
   "metadata": {},
   "outputs": [],
   "source": [
    "n_iter = 100000    # number of seeds for collatz algorithm\n",
    "#Create algorithm\n",
    "for i in range(2,n_iter):\n",
    "    c = i\n",
    "    col = [c]\n",
    "    while c > 1:\n",
    "        if c%2==1:\n",
    "            c = int(c * 3 + 1)\n",
    "        else:\n",
    "            c =int(c/ 2)\n",
    "        col.append(c)\n",
    "    collatzs.append(col)"
   ]
  },
  {
   "cell_type": "code",
   "execution_count": 4,
   "id": "56b05b13",
   "metadata": {},
   "outputs": [],
   "source": [
    "#Choose parameters. Drop below a trunc_len and truncate the rest to it\n",
    "trunc_len = 200"
   ]
  },
  {
   "cell_type": "code",
   "execution_count": 5,
   "id": "c0479022",
   "metadata": {},
   "outputs": [],
   "source": [
    "#Dropping too small branches\n",
    "truncated = []\n",
    "for i in range(len(collatzs)):\n",
    "    if len(collatzs[i]) >= trunc_len:\n",
    "        truncated.append(collatzs[i])"
   ]
  },
  {
   "cell_type": "code",
   "execution_count": 6,
   "id": "75ee5c94",
   "metadata": {},
   "outputs": [],
   "source": [
    "#Truncating branches\n",
    "for i in range(len(truncated)):\n",
    "    truncated[i] = truncated[i][-trunc_len:]"
   ]
  },
  {
   "cell_type": "code",
   "execution_count": 8,
   "id": "0a76f801",
   "metadata": {},
   "outputs": [
    {
     "data": {
      "text/plain": [
       "(562, 4469, 99998)"
      ]
     },
     "execution_count": 8,
     "metadata": {},
     "output_type": "execute_result"
    }
   ],
   "source": [
    "#Prune duplicate branches\n",
    "trunc_pruned = []\n",
    "end_values = []\n",
    "for branch in truncated:\n",
    "    if branch[0] not in end_values:\n",
    "        trunc_pruned.append(branch)\n",
    "        end_values.append(branch[0])\n",
    "    else:\n",
    "        pass\n",
    "len(trunc_pruned), len(truncated), len(collatzs)"
   ]
  },
  {
   "cell_type": "markdown",
   "id": "335d5b5a",
   "metadata": {},
   "source": [
    "<i>We are left with very few values compared to our origin (and computing time)"
   ]
  },
  {
   "cell_type": "markdown",
   "id": "859a5819",
   "metadata": {},
   "source": [
    "Converting to numpy"
   ]
  },
  {
   "cell_type": "code",
   "execution_count": 9,
   "id": "b619c258",
   "metadata": {},
   "outputs": [],
   "source": [
    "collatz = np.row_stack(trunc_pruned)"
   ]
  },
  {
   "cell_type": "code",
   "execution_count": 10,
   "id": "4b8e34bb",
   "metadata": {},
   "outputs": [],
   "source": [
    "collatz = np.flip(collatz, axis=1)"
   ]
  },
  {
   "cell_type": "code",
   "execution_count": 11,
   "id": "2eba1f00",
   "metadata": {},
   "outputs": [],
   "source": [
    "#Create increment - -8 degrees if odd, + 8 degrees if even\n",
    "increment = np.zeros(collatz.shape)\n",
    "increment[collatz%2==1] = -2 * np.pi / 45\n",
    "increment[collatz%2==0] = 2 * np.pi / 45\n",
    "increment[collatz==1] = 0"
   ]
  },
  {
   "cell_type": "code",
   "execution_count": 12,
   "id": "44f77aec",
   "metadata": {},
   "outputs": [],
   "source": [
    "# Cumulative sum of increment to find full direction\n",
    "alpha = increment.cumsum(axis=1)"
   ]
  },
  {
   "cell_type": "code",
   "execution_count": 13,
   "id": "fe3119fc",
   "metadata": {},
   "outputs": [],
   "source": [
    "#Initialize d for distance and theta for angle. Will convert to Cartesian coordinates in tableau\n",
    "d = np.ones(collatz.shape)\n",
    "theta = np.zeros(collatz.shape)"
   ]
  },
  {
   "cell_type": "code",
   "execution_count": 14,
   "id": "05c50f2e",
   "metadata": {},
   "outputs": [],
   "source": [
    "# Parameters for creating distance and theta algorithm\n",
    "n_branches = collatz.shape[0]\n",
    "steps_per_branch = collatz.shape[1]"
   ]
  },
  {
   "cell_type": "code",
   "execution_count": 15,
   "id": "d8350f88",
   "metadata": {},
   "outputs": [],
   "source": [
    "#Trigonometry algorithm. Described in blog post ___\n",
    "for i in range(1, steps_per_branch):\n",
    "    beta = np.zeros(n_branches)\n",
    "    beta[increment[:,i] < 0] = alpha[increment[:,i]<0][:,i] + np.pi - theta[increment[:,i]<0][:,i-1]\n",
    "    beta[increment[:,i] > 0] = np.pi - alpha[increment[:,i]>0][:,i] + theta[increment[:,i]>0][:,i-1]\n",
    "    \n",
    "    d[:,i] = np.sqrt(d[:,i-1]**2 + 1 - 2 * d[:,i-1] * np.cos(beta))\n",
    "    \n",
    "    mu = np.arcsin(np.sin(beta) / d[:,i])\n",
    "    mu[increment[:,i] < 0] = -mu[increment[:,i] < 0]\n",
    "    \n",
    "    theta[:,i] = theta[:,i-1] + mu"
   ]
  },
  {
   "cell_type": "code",
   "execution_count": 16,
   "id": "32b2ee30",
   "metadata": {},
   "outputs": [
    {
     "data": {
      "text/plain": [
       "array([[0.        , 0.06981317, 0.13962634, ..., 6.12329168, 6.14744629,\n",
       "        6.17122146],\n",
       "       [0.        , 0.06981317, 0.13962634, ..., 6.12244366, 6.14511968,\n",
       "        6.1692051 ],\n",
       "       [0.        , 0.06981317, 0.13962634, ..., 1.91192168, 1.89631122,\n",
       "        1.88737298],\n",
       "       ...,\n",
       "       [0.        , 0.06981317, 0.13962634, ..., 6.20849306, 6.23126461,\n",
       "        6.2565327 ],\n",
       "       [0.        , 0.06981317, 0.13962634, ..., 6.22715531, 6.25446958,\n",
       "        6.28475901],\n",
       "       [0.        , 0.06981317, 0.13962634, ..., 1.68629417, 1.69686121,\n",
       "        1.71018003]])"
      ]
     },
     "execution_count": 16,
     "metadata": {},
     "output_type": "execute_result"
    }
   ],
   "source": [
    "theta"
   ]
  },
  {
   "cell_type": "code",
   "execution_count": 17,
   "id": "e3121656",
   "metadata": {},
   "outputs": [
    {
     "data": {
      "text/plain": [
       "array([[ 1.        ,  1.9951281 ,  2.98053614, ..., 41.19368828,\n",
       "        41.08101008, 40.85440796],\n",
       "       [ 1.        ,  1.9951281 ,  2.98053614, ..., 40.91752809,\n",
       "        40.53384953, 40.30513237],\n",
       "       [ 1.        ,  1.9951281 ,  2.98053614, ..., 22.59273246,\n",
       "        23.52572801, 24.5024304 ],\n",
       "       ...,\n",
       "       [ 1.        ,  1.9951281 ,  2.98053614, ..., 36.8434321 ,\n",
       "        36.2896094 , 35.8788425 ],\n",
       "       [ 1.        ,  1.9951281 ,  2.98053614, ..., 31.17119641,\n",
       "        30.6349102 , 30.24771126],\n",
       "       [ 1.        ,  1.9951281 ,  2.98053614, ..., 36.63778292,\n",
       "        37.55775595, 38.42032886]])"
      ]
     },
     "execution_count": 17,
     "metadata": {},
     "output_type": "execute_result"
    }
   ],
   "source": [
    "d"
   ]
  },
  {
   "cell_type": "code",
   "execution_count": 18,
   "id": "82d37d25",
   "metadata": {},
   "outputs": [],
   "source": [
    "#Need to flatten the rows, generate ids, generate index"
   ]
  },
  {
   "cell_type": "code",
   "execution_count": 19,
   "id": "de87b50e",
   "metadata": {},
   "outputs": [],
   "source": [
    "group_index = np.resize(np.arange(steps_per_branch),(collatz.shape))"
   ]
  },
  {
   "cell_type": "code",
   "execution_count": 20,
   "id": "60272da6",
   "metadata": {},
   "outputs": [],
   "source": [
    "group_id = np.repeat(np.arange(n_branches),steps_per_branch)"
   ]
  },
  {
   "cell_type": "code",
   "execution_count": 21,
   "id": "81faf57d",
   "metadata": {},
   "outputs": [],
   "source": [
    "df = pd.DataFrame(collatz.ravel(), columns=['collatz'])"
   ]
  },
  {
   "cell_type": "code",
   "execution_count": 22,
   "id": "2abe30f9",
   "metadata": {},
   "outputs": [],
   "source": [
    "df['theta'] = theta.ravel()\n",
    "df['d'] = d.ravel()\n",
    "df['group_id'] = group_id\n",
    "df['group_index'] = group_index.ravel()"
   ]
  },
  {
   "cell_type": "code",
   "execution_count": 23,
   "id": "1f9d04b3",
   "metadata": {},
   "outputs": [
    {
     "data": {
      "text/plain": [
       "(562, 200)"
      ]
     },
     "execution_count": 23,
     "metadata": {},
     "output_type": "execute_result"
    }
   ],
   "source": [
    "collatz.shape"
   ]
  },
  {
   "cell_type": "code",
   "execution_count": 24,
   "id": "9d03dd80",
   "metadata": {},
   "outputs": [
    {
     "data": {
      "text/html": [
       "<div>\n",
       "<style scoped>\n",
       "    .dataframe tbody tr th:only-of-type {\n",
       "        vertical-align: middle;\n",
       "    }\n",
       "\n",
       "    .dataframe tbody tr th {\n",
       "        vertical-align: top;\n",
       "    }\n",
       "\n",
       "    .dataframe thead th {\n",
       "        text-align: right;\n",
       "    }\n",
       "</style>\n",
       "<table border=\"1\" class=\"dataframe\">\n",
       "  <thead>\n",
       "    <tr style=\"text-align: right;\">\n",
       "      <th></th>\n",
       "      <th>collatz</th>\n",
       "      <th>theta</th>\n",
       "      <th>d</th>\n",
       "      <th>group_id</th>\n",
       "      <th>group_index</th>\n",
       "    </tr>\n",
       "  </thead>\n",
       "  <tbody>\n",
       "    <tr>\n",
       "      <th>0</th>\n",
       "      <td>1</td>\n",
       "      <td>0.000000</td>\n",
       "      <td>1.000000</td>\n",
       "      <td>0</td>\n",
       "      <td>0</td>\n",
       "    </tr>\n",
       "    <tr>\n",
       "      <th>1</th>\n",
       "      <td>2</td>\n",
       "      <td>0.069813</td>\n",
       "      <td>1.995128</td>\n",
       "      <td>0</td>\n",
       "      <td>1</td>\n",
       "    </tr>\n",
       "    <tr>\n",
       "      <th>2</th>\n",
       "      <td>4</td>\n",
       "      <td>0.139626</td>\n",
       "      <td>2.980536</td>\n",
       "      <td>0</td>\n",
       "      <td>2</td>\n",
       "    </tr>\n",
       "    <tr>\n",
       "      <th>3</th>\n",
       "      <td>8</td>\n",
       "      <td>0.209440</td>\n",
       "      <td>3.951423</td>\n",
       "      <td>0</td>\n",
       "      <td>3</td>\n",
       "    </tr>\n",
       "    <tr>\n",
       "      <th>4</th>\n",
       "      <td>16</td>\n",
       "      <td>0.279253</td>\n",
       "      <td>4.903060</td>\n",
       "      <td>0</td>\n",
       "      <td>4</td>\n",
       "    </tr>\n",
       "    <tr>\n",
       "      <th>...</th>\n",
       "      <td>...</td>\n",
       "      <td>...</td>\n",
       "      <td>...</td>\n",
       "      <td>...</td>\n",
       "      <td>...</td>\n",
       "    </tr>\n",
       "    <tr>\n",
       "      <th>112395</th>\n",
       "      <td>608188</td>\n",
       "      <td>1.659982</td>\n",
       "      <td>34.878269</td>\n",
       "      <td>561</td>\n",
       "      <td>195</td>\n",
       "    </tr>\n",
       "    <tr>\n",
       "      <th>112396</th>\n",
       "      <td>1216376</td>\n",
       "      <td>1.671743</td>\n",
       "      <td>35.787862</td>\n",
       "      <td>561</td>\n",
       "      <td>196</td>\n",
       "    </tr>\n",
       "    <tr>\n",
       "      <th>112397</th>\n",
       "      <td>2432752</td>\n",
       "      <td>1.686294</td>\n",
       "      <td>36.637783</td>\n",
       "      <td>561</td>\n",
       "      <td>197</td>\n",
       "    </tr>\n",
       "    <tr>\n",
       "      <th>112398</th>\n",
       "      <td>810917</td>\n",
       "      <td>1.696861</td>\n",
       "      <td>37.557756</td>\n",
       "      <td>561</td>\n",
       "      <td>198</td>\n",
       "    </tr>\n",
       "    <tr>\n",
       "      <th>112399</th>\n",
       "      <td>1621834</td>\n",
       "      <td>1.710180</td>\n",
       "      <td>38.420329</td>\n",
       "      <td>561</td>\n",
       "      <td>199</td>\n",
       "    </tr>\n",
       "  </tbody>\n",
       "</table>\n",
       "<p>112400 rows × 5 columns</p>\n",
       "</div>"
      ],
      "text/plain": [
       "        collatz     theta          d  group_id  group_index\n",
       "0             1  0.000000   1.000000         0            0\n",
       "1             2  0.069813   1.995128         0            1\n",
       "2             4  0.139626   2.980536         0            2\n",
       "3             8  0.209440   3.951423         0            3\n",
       "4            16  0.279253   4.903060         0            4\n",
       "...         ...       ...        ...       ...          ...\n",
       "112395   608188  1.659982  34.878269       561          195\n",
       "112396  1216376  1.671743  35.787862       561          196\n",
       "112397  2432752  1.686294  36.637783       561          197\n",
       "112398   810917  1.696861  37.557756       561          198\n",
       "112399  1621834  1.710180  38.420329       561          199\n",
       "\n",
       "[112400 rows x 5 columns]"
      ]
     },
     "execution_count": 24,
     "metadata": {},
     "output_type": "execute_result"
    }
   ],
   "source": [
    "df"
   ]
  },
  {
   "cell_type": "code",
   "execution_count": 25,
   "id": "e79e6023",
   "metadata": {},
   "outputs": [],
   "source": [
    "df.to_csv('collatz_tree.csv')"
   ]
  }
 ],
 "metadata": {
  "kernelspec": {
   "display_name": "Python 3 (ipykernel)",
   "language": "python",
   "name": "python3"
  },
  "language_info": {
   "codemirror_mode": {
    "name": "ipython",
    "version": 3
   },
   "file_extension": ".py",
   "mimetype": "text/x-python",
   "name": "python",
   "nbconvert_exporter": "python",
   "pygments_lexer": "ipython3",
   "version": "3.7.11"
  }
 },
 "nbformat": 4,
 "nbformat_minor": 5
}
